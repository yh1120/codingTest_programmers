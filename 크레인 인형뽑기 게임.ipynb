{
 "metadata": {
  "language_info": {
   "codemirror_mode": {
    "name": "ipython",
    "version": 3
   },
   "file_extension": ".py",
   "mimetype": "text/x-python",
   "name": "python",
   "nbconvert_exporter": "python",
   "pygments_lexer": "ipython3",
   "version": "3.7.4-final"
  },
  "orig_nbformat": 2,
  "kernelspec": {
   "name": "python3",
   "display_name": "Python 3",
   "language": "python"
  }
 },
 "nbformat": 4,
 "nbformat_minor": 2,
 "cells": [
  {
   "source": [
    "def solution(board, moves):\n",
    "    ans = 0\n",
    "    stack = list()\n",
    "    for i in range(len(moves)):\n",
    "        for j in range(len(board[0])):\n",
    "            if board[j][moves[i] - 1] > 0:\n",
    "                stack.append(board[j][moves[i] - 1])\n",
    "                board[j][moves[i] - 1] = 0\n",
    "                if (k > 0 and stack[k] == stack[k - 1]):\n",
    "                    ans += 2\n",
    "                    stack.pop()\n",
    "                    stack.pop()\n",
    "                    k -= 2\n",
    "                k += 1\n",
    "                break\n",
    "    return ans\n",
    "\n",
    "board = [[0,0,0,0,0,0],\n",
    "         [0,0,1,0,3,0],\n",
    "         [0,2,5,0,1,3],\n",
    "         [4,2,4,4,2,1],\n",
    "         [3,5,1,3,1,4],\n",
    "         [1,1,1,1,1,1]]\n",
    "moves = [1,5,6,3,5,1,6,2,1,4]\n",
    "answer = 0\n",
    "\n",
    "answer = solution(board, moves)\n",
    "print(answer)\n"
   ],
   "cell_type": "code",
   "metadata": {},
   "execution_count": 2,
   "outputs": [
    {
     "output_type": "stream",
     "name": "stdout",
     "text": [
      "4\n"
     ]
    }
   ]
  },
  {
   "cell_type": "code",
   "execution_count": null,
   "metadata": {},
   "outputs": [],
   "source": []
  }
 ]
}